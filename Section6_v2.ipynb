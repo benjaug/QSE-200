{
 "cells": [
  {
   "cell_type": "markdown",
   "id": "4821edfc-1642-45c2-8cda-f03a551fe04b",
   "metadata": {},
   "source": [
    "# Section 6: An Intuitive Picture of Band Structure"
   ]
  },
  {
   "cell_type": "code",
   "execution_count": 1,
   "id": "8f69adde-680a-4b20-a665-d02445221f2c",
   "metadata": {},
   "outputs": [],
   "source": [
    "import numpy as np\n",
    "import matplotlib.pyplot as plt\n",
    "from ipywidgets import interact, FloatSlider\n",
    "from IPython.display import display"
   ]
  },
  {
   "cell_type": "markdown",
   "id": "96e29b11-0722-4084-badd-fab3dd0aa37d",
   "metadata": {},
   "source": [
    "In this Section, we are going to explore the emergence of band structure using simple models that you have studied before. We will consider a series of potential barriers (equally spaced) to simulate the periodic potential that electrons experience inside a crystal. By varying the heights of these barriers, we can smoothly transition between two simple limits: (1) a single, wide square well and (2) a series of narrow, uncoupled square wells. Band structure emerges between these two extremes. \n",
    "\n",
    "**Learning Goals**\n",
    "After this Section, you should:\n",
    "- Be able to explain the qualitative origins of energy bands\n",
    "- Explain the origin of energy spacings *within* bands as compared to *between* bands\n",
    "- Describe the shape of electronic wavefunctions at the edge of each Brillouin zone\n",
    "- Explain the connection between bound state and scattering methods of characterizing the energy levels of the periodic potential"
   ]
  },
  {
   "cell_type": "markdown",
   "id": "e32838a8-f765-41e1-b6ba-26945172a233",
   "metadata": {},
   "source": [
    "## Qualitative Solution"
   ]
  },
  {
   "cell_type": "markdown",
   "id": "1482a897-a5d3-4cca-877e-b8ba48c07f65",
   "metadata": {},
   "source": [
    "Before we dive into numerical solutions, let's think about the following qualitative situation: we have a square well of width $L$. Within the well, we place a series of barriers that partition the square well into $N$ narrower wells with width $a$. Each barrier has height $\\beta$ and thickness $b$. "
   ]
  },
  {
   "cell_type": "markdown",
   "id": "0e473c9f-3783-4c27-9912-1f0b141efee6",
   "metadata": {},
   "source": [
    "Let's start by considering the barriers to be infinitely thin (basically, delta functions). Now, as a class, let's work through the following questions:\n",
    "1. What are the energies and eigenstates of the wide well if the barriers are not present ($\\beta=0$)?\n",
    "2. When $\\beta \\rightarrow \\infty$, what should the wavefunctions look like?\n",
    "3. As we increase $\\beta$ to take on finite values, what will happen to the wavefunctions? How will they look? What will their ordering be like relative to the cases we just described?\n",
    "4. What analogies could we make between excitation of different bands and excitations of atoms in a solid?"
   ]
  },
  {
   "cell_type": "markdown",
   "id": "f7b4d7a4-c0ab-4bce-af00-d32c12511bdc",
   "metadata": {},
   "source": [
    "After going through these qualitative arguments, we can now look at what the numerics tell us."
   ]
  },
  {
   "cell_type": "markdown",
   "id": "1bdf074d-3671-4210-89ee-56686e387c9a",
   "metadata": {},
   "source": [
    "## Building the potential V(x)"
   ]
  },
  {
   "cell_type": "markdown",
   "id": "3f432601-bcbd-477c-bf64-7c74ff488d48",
   "metadata": {},
   "source": [
    "First we'll write some functions that build our model potential. Our model includes the following parameters:\n",
    "- $L$: width of the enclosing square well\n",
    "- $a$: width of each narrow square well\n",
    "- $b$: thickness of each internal barrier\n",
    "- $N$: number of narrow square wells\n",
    "- $\\beta$: heigh of each barrier"
   ]
  },
  {
   "cell_type": "code",
   "execution_count": 2,
   "id": "971a2207-997d-4935-8857-6e387e76635c",
   "metadata": {},
   "outputs": [],
   "source": [
    "# This function will return another function that depends only on x.\n",
    "# That's a convenient way to get a function of x that can go into our DVR code.\n",
    "# fullwidth allows us to embed the entire potential in a wider \"framing\" square well\n",
    "def make_potential(N, a, b, beta):\n",
    "    L = N*a+(N-2)*b\n",
    "    if N > 0:\n",
    "        x0s = np.arange(1,N)*(a+b)-(b) - L/2 # locations of barrier centers\n",
    "        def fn(x):\n",
    "            # builds a barrier of height beta and width b centered at each x0 value:\n",
    "            barriers = beta*np.sum([np.heaviside(x-x0s[n]+b/2 , 0.5) - np.heaviside((x-x0s[n]-b/2), 0.5) for n in range(N-1)], axis=0)\n",
    "            return barriers + beta * ((x < -L/2-b/2) | (x>L/2+b/2))\n",
    "    else:\n",
    "        a = L\n",
    "        def fn(x):\n",
    "            return np.zeros(len(x)) + beta * ((x < -L/2) | (x>L/2))\n",
    "    \n",
    "    return fn\n",
    "    "
   ]
  },
  {
   "cell_type": "code",
   "execution_count": 3,
   "id": "09f637d1-6de3-42fc-af4e-dd7f567b66a5",
   "metadata": {},
   "outputs": [
    {
     "data": {
      "text/plain": [
       "Text(0, 0.5, 'V')"
      ]
     },
     "execution_count": 3,
     "metadata": {},
     "output_type": "execute_result"
    },
    {
     "data": {
      "image/png": "[encoded data removed]",
      "text/plain": [
       "<Figure size 432x288 with 1 Axes>"
      ]
     },
     "metadata": {
      "needs_background": "light"
     },
     "output_type": "display_data"
    }
   ],
   "source": [
    "f_test = make_potential(9, 1.1e-9, 0.1e-9, 1.5)\n",
    "x = np.linspace(-8,8, 5000)*1e-9\n",
    "plt.plot(x,f_test(x).T)\n",
    "plt.xlabel(\"x\")\n",
    "plt.ylabel(\"V\")"
   ]
  },
  {
   "cell_type": "markdown",
   "id": "997ee79d-c4ad-470e-a339-3701ebe949ba",
   "metadata": {},
   "source": [
    "## Making the DVR code"
   ]
  },
  {
   "cell_type": "markdown",
   "id": "480bd235-3bba-4d06-85c0-7222f0c40884",
   "metadata": {},
   "source": [
    "Next, we set up the DVR code from Section 4 to build the Hamiltonian for our system. This code is the same as we have used previously."
   ]
  },
  {
   "cell_type": "code",
   "execution_count": 68,
   "id": "145e1ae3-0982-4d21-ba8e-b0aca8a44540",
   "metadata": {
    "tags": [
     "hide-input"
    ]
   },
   "outputs": [],
   "source": [
    "hbar = (6.63e-34)/(2*np.pi) # in J.s\n",
    "m = 9.1e-31 # in kg\n",
    "\n",
    "# Function to make the kinetic energy operator\n",
    "def make_T(x):\n",
    "    Delta_x = x[1]-x[0]\n",
    "    N = x.shape[0]\n",
    "    Tmat = np.zeros((N,N))\n",
    "    \n",
    "    # now loop over kinetic energy matrix and fill in matrix elements\n",
    "    for i in range(N):\n",
    "        for j in range(N):\n",
    "            if i==j:\n",
    "                Tmat[i,j] = (hbar**2/(2*m*Delta_x**2)) * (np.pi**2)/3\n",
    "            else:\n",
    "                Tmat[i,j] = (hbar**2/(2*m*Delta_x**2)) * (-1)**(i-j) * 2/(i-j)**2\n",
    "                \n",
    "    return Tmat\n",
    "  \n",
    "# Function to make the potential energy operator\n",
    "def make_V(x,Vfunc):\n",
    "    Vmat = np.diag(Vfunc(x))\n",
    "    return Vmat\n",
    "\n",
    "# Function to make the full Hamiltonian\n",
    "def make_H(x,Vfunc):\n",
    "    return make_T(x) + make_V(x,Vfunc)"
   ]
  },
  {
   "cell_type": "markdown",
   "id": "ba6c449a-f623-4597-a412-a78e3316b4b4",
   "metadata": {},
   "source": [
    "Let's test this on a potential consisting of 12 wells that are fairly deep. After building the potential, we construct the Hamiltonian, evaluate the eigenvectors/eigenvalues, and then plot."
   ]
  },
  {
   "cell_type": "code",
   "execution_count": null,
   "id": "d3f165fa-061d-4ee4-93de-9999d9df7a9c",
   "metadata": {
    "tags": [
     "hide-input"
    ]
   },
   "outputs": [
    {
     "data": {
      "image/png": "[encoded data removed]",
      "text/plain": [
       "<Figure size 432x288 with 1 Axes>"
      ]
     },
     "metadata": {
      "needs_background": "light"
     },
     "output_type": "display_data"
    }
   ],
   "source": [
    "N = 12 # number of wells\n",
    "a = 0.4e-9\n",
    "b = 0.05e-9 # wall thickness in nm\n",
    "beta = 20 / 6.24150907e18 # well height in J\n",
    "V_wells = make_potential(N, a, b, beta)\n",
    "xs = np.linspace(-5, 5, 1600)*1e-9\n",
    "plt.plot(xs*1e9, V_wells(xs))\n",
    "plt.xlabel(\"Position (nm)\")\n",
    "plt.ylabel(\"Energy (eV)\")\n",
    "\n",
    "Ham=make_H(xs,V_wells)\n",
    "\n",
    "vals, vecs = np.linalg.eigh(Ham)\n",
    "# make sure ground state is upward going\n",
    "vecs[:,0] = vecs[:,0] * np.sign(vecs[np.argmax(np.abs(vecs[:,0])),0])\n",
    "# number of bound states:\n",
    "nbound = np.sum([vals<beta])"
   ]
  },
  {
   "cell_type": "markdown",
   "id": "9929039f-328b-4fe9-ac3f-5936245020e8",
   "metadata": {},
   "source": [
    "We can now plot the numerically computed eigenvalues. Let's overlay these values with the energy levels that would occur if there were no barriers inside the potential---the energy levels of the \"wide\" finite square well."
   ]
  },
  {
   "cell_type": "code",
   "execution_count": 39,
   "id": "9c6f4e33-3dc5-4e98-af38-4186e371b9ab",
   "metadata": {
    "tags": [
     "hide-input"
    ]
   },
   "outputs": [],
   "source": [
    "def analytical_Es(w):\n",
    "    return [i**2 * np.pi**2 * hbar**2/(2*m*w**2) for i in range(1,nbound+1)]"
   ]
  },
  {
   "cell_type": "code",
   "execution_count": 40,
   "id": "75e88aa3-7886-40c6-b6ef-89bd55f75e02",
   "metadata": {
    "tags": [
     "hide-input"
    ]
   },
   "outputs": [
    {
     "data": {
      "text/plain": [
       "[<matplotlib.lines.Line2D at 0x7fb5d3d27790>]"
      ]
     },
     "execution_count": 40,
     "metadata": {},
     "output_type": "execute_result"
    },
    {
     "data": {
      "image/png": "[encoded data removed]",
      "text/plain": [
       "<Figure size 432x288 with 1 Axes>"
      ]
     },
     "metadata": {
      "needs_background": "light"
     },
     "output_type": "display_data"
    }
   ],
   "source": [
    "plt.plot(vals[:nbound],'.')\n",
    "plt.plot(analytical_Es(N*a+(N-2)*b))"
   ]
  },
  {
   "cell_type": "markdown",
   "id": "9d866de3-c1a8-4fb5-b090-f3ff5d8b8232",
   "metadata": {},
   "source": [
    "Notice that the periodic potential leads to a structure highly reminiscient of band structure: the energy levels roughly follow the parabolic shape expected from the wide square well (or, from a different perspective, for the free particle), but the levels are broken up into bands with the characteristic shape that we see in class. And there are band gaps between these bands."
   ]
  },
  {
   "cell_type": "markdown",
   "id": "ebdef0f9-d82a-440c-b9b7-9045e1bae47c",
   "metadata": {},
   "source": [
    "**Question: What will the plot look like if we increase the well separation to the point that the wells are essentially fully uncoupled? Will there be energy degeneracies? How many levels will share the same energy? What happens as the number of wells is increased--which energy gaps \"close\" and which remain?**\n",
    "\n",
    "To answer these questions, perform a \"numerical experiment\" and compare your results to the appropriate square well. How do the numbers compare?\n",
    "\n",
    "**Question: What happens if the well separation is decreased to essentially zero? How do these energies compare to the appropriate finite square well? What about the comparison to free particle energies?**"
   ]
  },
  {
   "cell_type": "markdown",
   "id": "075b8fc3-8e2e-41ec-9763-30139c0e7606",
   "metadata": {},
   "source": [
    "Let's look at the wavefunctions to understand this even better. It will be useful to plot the actual wavefunctions and have some interactivity. The code below makes a plot with a slider that allows you to look at all of the bound eigenstates for a given potential. Once you set the number of wells, their width, and their barriers, you can scan through the eigenstates and look at the behavior."
   ]
  },
  {
   "cell_type": "code",
   "execution_count": 53,
   "id": "deb935d6-44f7-498b-bd8e-00c9f05d46df",
   "metadata": {
    "tags": [
     "hide-input"
    ]
   },
   "outputs": [],
   "source": [
    "def interact_wavefunction():        \n",
    "    ## Plot parameters\n",
    "    xmin, xmax, nx = min(xs)*1e9, max(xs)*1e9, 50\n",
    "    ymin, ymax = -1.2, 1.2\n",
    "    pmin, pmax, pstep, pinit = 0, nbound-1, 1, 0\n",
    "    \n",
    "    ## Set up the plot data\n",
    "    fig, (ax1,ax2)   = plt.subplots(1,2,figsize=(16,6))\n",
    "    line2, = ax1.plot(xs*1e9,2*V_wells(xs)/np.max(V_wells(xs))-1, color=\"grey\")\n",
    "    line, = ax1.plot([], [], linewidth=2, color=\"red\") # Initialize curve to empty data.\n",
    "    \n",
    "    well_levels, = ax2.plot([],[])\n",
    "    well_itself, = ax2.plot([],[], color=\"black\")\n",
    "\n",
    "    ## Set up the figure axes, etc.\n",
    "    ax1.set_xlim([xmin, xmax])\n",
    "    ax1.set_ylim([ymin, ymax])\n",
    "    ax2.set_xlim([xmin,xmax])\n",
    "    ax2.set_ylim([-beta/8*6.24150907e18,1.2*beta*6.24150907e18])\n",
    "    ax1.set_xlabel('Position (nm)', fontsize=18)\n",
    "    ax1.set_ylabel('Re{$\\psi$}', fontsize=18)\n",
    "    ax2.set_xlabel('Position (nm)', fontsize=18)\n",
    "    ax2.set_ylabel('Energy (eV)', fontsize=18)\n",
    "    ax1.tick_params(axis='both', which='major', labelsize=16)\n",
    "    ax2.tick_params(axis='both', which='major', labelsize=16)\n",
    "    plt.close()      # Don't show the figure yet.\n",
    "\n",
    "    ## Callback function\n",
    "    def plot_wavefunction(Eigenstate):\n",
    "        y = vecs[:,int(Eigenstate)]/np.max(np.abs(vecs[:,int(Eigenstate)]))\n",
    "        line.set_data(xs*1e9, y)\n",
    "        line2.set_data(xs*1e9, 2*V_wells(xs)/np.max(V_wells(xs))-1)\n",
    "        well_itself.set_data(xs*1e9, V_wells(xs)*6.24150907e18)\n",
    "        [ax2.axhline(y=vals[i]*6.24150907e18,color=\"grey\") for i in range(nbound)]\n",
    "        ax2.axhline(y=vals[int(Eigenstate)]*6.24150907e18, color=\"cyan\")\n",
    "        ax2.set_title(f\"E={np.round(vals[int(Eigenstate)]*6.24150907e18,3)} eV\", fontsize=16)\n",
    "        display(fig)\n",
    "\n",
    "    ## Generate the user interface.\n",
    "    interact(plot_wavefunction, \n",
    "             Eigenstate=FloatSlider(min=pmin, max=pmax, step=pstep, value=pinit))\n"
   ]
  },
  {
   "cell_type": "markdown",
   "id": "8524bafc-ad4a-4e25-9215-becec6da2893",
   "metadata": {},
   "source": [
    "For example, we can start with 12 wells that are each 0.8 nm wide, 4 eV high, and have a 0.05 nm barrier between them. For this set of parameters, use the interactive plotting to gain some insights about the potential."
   ]
  },
  {
   "cell_type": "code",
   "execution_count": 54,
   "id": "cfd5f372-d440-4ced-baac-c7b39bdfd31d",
   "metadata": {},
   "outputs": [
    {
     "data": {
      "application/vnd.jupyter.widget-view+json": {
       "model_id": "427dec93a48d4e5eba5c9208ec62444f",
       "version_major": 2,
       "version_minor": 0
      },
      "text/plain": [
       "interactive(children=(FloatSlider(value=0.0, description='Eigenstate', max=32.0, step=1.0), Output()), _dom_cl…"
      ]
     },
     "metadata": {},
     "output_type": "display_data"
    }
   ],
   "source": [
    "N = 12 # number of wells\n",
    "a = 0.8e-9\n",
    "b = 0.05e-9 # wall thickness in nm\n",
    "beta = 4 / 6.24150907e18 # well height in J\n",
    "V_wells = make_potential(N, a, b, beta)\n",
    "xs = np.linspace(-8, 8, 900)*1e-9\n",
    "\n",
    "Ham=make_H(xs,V_wells)\n",
    "\n",
    "vals, vecs = np.linalg.eigh(Ham)\n",
    "# make sure ground state is upward going\n",
    "vecs[:,0] = vecs[:,0] * np.sign(vecs[np.argmax(np.abs(vecs[:,0])),0])\n",
    "# number of bound states:\n",
    "nbound = np.sum([vals<beta])\n",
    "\n",
    "\n",
    "interact_wavefunction();"
   ]
  },
  {
   "cell_type": "markdown",
   "id": "9aed6f63-df8a-475b-9188-bd3ac3999206",
   "metadata": {},
   "source": [
    "**Question: Using the interactive graphs above, how does the behavior of each wavefunction within a single band conform to our expectations from Bloch's theorem? How do the wavefunctions differ from band to band? What do you expect to happen as $N \\rightarrow \\infty$?**"
   ]
  },
  {
   "cell_type": "markdown",
   "id": "c180eaeb-2d63-4100-9dfe-f112edd393cb",
   "metadata": {},
   "source": [
    "## Transfer matrix approach"
   ]
  },
  {
   "cell_type": "markdown",
   "id": "cb9a23ee-8e1b-4a17-a961-2eb320eabe82",
   "metadata": {},
   "source": [
    "There's a totally different way to look at band structure: by studying the scattering properties of the potential. This is a complementary method to learn about a potentials bound states. Scattering studies are widely used in many fields of physics/chemistry, from studying the solid state to studying atoms and molecules. Let's see what we can learn about electronic band structure from this point of view using the transfer matrix program that you wrote on HW2. "
   ]
  },
  {
   "cell_type": "markdown",
   "id": "9610bec7-856f-472c-b2b9-e1e6eb52e677",
   "metadata": {},
   "source": [
    "First of all, let's go over the idea of the transfer matrix approach.\n",
    "\n",
    "**Set up approach, talk about different role of propagation vs. transmission matrices.**\n",
    "\n",
    "The code to implement each of these matrices is copied below."
   ]
  },
  {
   "cell_type": "code",
   "execution_count": 55,
   "id": "50af1766-d06e-42b5-a32a-2d208c9a9b77",
   "metadata": {
    "tags": []
   },
   "outputs": [],
   "source": [
    "def DMat(k1, k2):\n",
    "    res = np.zeros((2,2),dtype=np.complex_)\n",
    "    res[0,0] = (1 + k2/k1)/2\n",
    "    res[0,1] = (1 - k2/k1)/2\n",
    "    res[1,0] = res[0,1]\n",
    "    res[1,1] = res[0,0]\n",
    "    return res\n",
    "\n",
    "def PMat(k, L):\n",
    "    res = np.zeros((2,2),dtype=np.complex_)\n",
    "    res[0,0] = np.exp(-1j * k * L)\n",
    "    res[1,1] = np.exp(1j * k * L)\n",
    "    return res"
   ]
  },
  {
   "cell_type": "markdown",
   "id": "1c5a2bde-fd2e-4f10-8f11-c1226682ae0b",
   "metadata": {},
   "source": [
    "**Question: What do the peaks here represent? What is the physics going on when N=2? N=3? Large N?**"
   ]
  },
  {
   "cell_type": "code",
   "execution_count": 248,
   "id": "b9a0d549-b8f7-4076-b78b-bae82a9e284b",
   "metadata": {},
   "outputs": [
    {
     "data": {
      "image/png": "[encoded data removed]",
      "text/plain": [
       "<Figure size 432x288 with 1 Axes>"
      ]
     },
     "metadata": {
      "needs_background": "light"
     },
     "output_type": "display_data"
    }
   ],
   "source": [
    "a = 0.8e-9\n",
    "b = 0.1e-9\n",
    "\n",
    "Es = np.arange(0.01, 12.0, 0.001) / 6.24150907e18\n",
    "width_barrier = b\n",
    "width_gap = a\n",
    "Vb=10/ 6.24150907e18\n",
    "\n",
    "Nwells=30\n",
    "\n",
    "\n",
    "Ttrans = np.zeros(Es.size)\n",
    "i = 0\n",
    "for E in Es:\n",
    "    klow = np.emath.sqrt(2 * m * E/hbar**2)\n",
    "    khigh = np.emath.sqrt(2 * m * (E - Vb)/hbar**2)\n",
    "    res_mat = DMat(klow, khigh) @ PMat(khigh, width_barrier) @ DMat(khigh, klow) @ PMat(klow, width_gap)\n",
    "    U, V = np.linalg.eig(res_mat)\n",
    "    diag_res_mat = np.diag([U[0],U[1]])\n",
    "    res_mat = np.linalg.matrix_power(diag_res_mat,Nwells)\n",
    "    res_mat = V @ res_mat @ np.linalg.inv(V)\n",
    "    Ttrans[i] = 1 - np.abs(res_mat[1, 0])**2 / np.abs(res_mat[0,0])**2\n",
    "    i = i + 1\n",
    "\n",
    "plt.plot(Es * 6.24150907e18, Ttrans)\n",
    "plt.xlabel(\"Energy (eV)\",fontsize=16)\n",
    "plt.ylabel(\"Transmission\",fontsize=16)\n",
    "plt.tick_params(axis='both', which='major', labelsize=16)"
   ]
  },
  {
   "cell_type": "markdown",
   "id": "fec5ebdc-fc6d-4758-b3a1-32986e29bd8e",
   "metadata": {},
   "source": [
    "Let's compare the transmission peaks to the bound state energy of our finite square well."
   ]
  },
  {
   "cell_type": "code",
   "execution_count": 249,
   "id": "a8991a8a-50d3-4011-a6dc-1ddf8f820f4e",
   "metadata": {},
   "outputs": [],
   "source": [
    "V_wells = make_potential(Nwells, a, b, Vb)\n",
    "xs = np.linspace(-15, 15, 1500)*1e-9\n",
    "\n",
    "Ham=make_H(xs,V_wells)\n",
    "\n",
    "vals, vecs = np.linalg.eigh(Ham)"
   ]
  },
  {
   "cell_type": "markdown",
   "id": "30accbf9-def3-4662-a1fe-c02321ee4bed",
   "metadata": {},
   "source": [
    "Now let's compare the transmission fraction to the band energies. \n",
    "\n",
    "**Question: How can we easily determine the limits of each energy band? (How does it compare to the number of wells being simulated?**"
   ]
  },
  {
   "cell_type": "code",
   "execution_count": 261,
   "id": "3e66f000-686a-4e5e-85c2-c39e8be9c09e",
   "metadata": {},
   "outputs": [
    {
     "data": {
      "text/plain": [
       "(0.0, 10.0)"
      ]
     },
     "execution_count": 261,
     "metadata": {},
     "output_type": "execute_result"
    },
    {
     "data": {
      "image/png": "[encoded data removed]",
      "text/plain": [
       "<Figure size 432x288 with 1 Axes>"
      ]
     },
     "metadata": {
      "needs_background": "light"
     },
     "output_type": "display_data"
    }
   ],
   "source": [
    "band_limits = [0]\n",
    "for n in range(5):\n",
    "    band_limits.append(n*Nwells-1)\n",
    "    band_limits.append(n*Nwells)\n",
    "\n",
    "plt.plot(Es * 6.24150907e18, Ttrans, color=\"limegreen\")\n",
    "[plt.axvline(vals[i]*6.24150907e18, color=\"black\") for i in band_limits]\n",
    "plt.xlabel(\"Energy (eV)\",fontsize=16)\n",
    "plt.ylabel(\"Transmission\",fontsize=16)\n",
    "plt.tick_params(axis='both', which='major', labelsize=16)\n",
    "plt.xlim(0,10)"
   ]
  },
  {
   "cell_type": "code",
   "execution_count": null,
   "id": "0d6e1d41-935d-45c1-b304-117c2d3076e2",
   "metadata": {},
   "outputs": [],
   "source": []
  }
 ],
 "metadata": {
  "kernelspec": {
   "display_name": "Python 3 (ipykernel)",
   "language": "python",
   "name": "python3"
  },
  "language_info": {
   "codemirror_mode": {
    "name": "ipython",
    "version": 3
   },
   "file_extension": ".py",
   "mimetype": "text/x-python",
   "name": "python",
   "nbconvert_exporter": "python",
   "pygments_lexer": "ipython3",
   "version": "3.9.7"
  }
 },
 "nbformat": 4,
 "nbformat_minor": 5
}
