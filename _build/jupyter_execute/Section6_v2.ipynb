{
 "cells": [
  {
   "cell_type": "markdown",
   "id": "4821edfc-1642-45c2-8cda-f03a551fe04b",
   "metadata": {},
   "source": [
    "# Section 6: An Intuitive Picture of Band Structure"
   ]
  },
  {
   "cell_type": "code",
   "execution_count": 1,
   "id": "8f69adde-680a-4b20-a665-d02445221f2c",
   "metadata": {},
   "outputs": [],
   "source": [
    "import numpy as np\n",
    "import matplotlib.pyplot as plt\n",
    "from ipywidgets import interact, FloatSlider\n",
    "from IPython.display import display"
   ]
  },
  {
   "cell_type": "markdown",
   "id": "96e29b11-0722-4084-badd-fab3dd0aa37d",
   "metadata": {},
   "source": [
    "In this Section, we are going to explore the emergence of band structure using simple models that you have studied before. We will consider a series of potential barriers (equally spaced) to simulate the periodic potential that electrons experience inside a crystal. By varying the heights of these barriers, we can smoothly transition between two simple limits: (1) a single, wide square well and (2) a series of narrow, uncoupled square wells. Band structure emerges between these two extremes. \n",
    "\n",
    "**Learning Goals**\n",
    "After this Section, you should:\n",
    "- Be able to explain the qualitative origins of energy bands\n",
    "- Explain the origin of energy spacings *within* bands as compared to *between* bands\n",
    "- Describe the shape of electronic wavefunctions at the edge of each Brillouin zone\n",
    "- Explain the connection between bound state and scattering methods of characterizing the energy levels of the periodic potential"
   ]
  },
  {
   "cell_type": "markdown",
   "id": "e32838a8-f765-41e1-b6ba-26945172a233",
   "metadata": {},
   "source": [
    "## Qualitative Solution"
   ]
  },
  {
   "cell_type": "markdown",
   "id": "1482a897-a5d3-4cca-877e-b8ba48c07f65",
   "metadata": {},
   "source": [
    "Before we dive into numerical solutions, let's think about the following qualitative situation: we have a square well of width $L$. Within the well, we place a series of barriers that partition the square well into $N$ narrower wells with width $a$. Each barrier has height $\\beta$ and thickness $b$. "
   ]
  },
  {
   "cell_type": "markdown",
   "id": "0e473c9f-3783-4c27-9912-1f0b141efee6",
   "metadata": {},
   "source": [
    "Let's start by considering the barriers to be infinitely thin (basically, delta functions). Now, as a class, let's work through the following questions:\n",
    "1. What are the energies and eigenstates of the wide well if the barriers are not present ($\\beta=0$)?\n",
    "2. When $\\beta \\rightarrow \\infty$, what should the wavefunctions look like?\n",
    "3. As we increase $\\beta$ to take on finite values, what will happen to the wavefunctions? How will they look? What will their ordering be like relative to the cases we just described?\n",
    "4. What analogies could we make between excitation of different bands and excitations of atoms in a solid?"
   ]
  },
  {
   "cell_type": "markdown",
   "id": "f7b4d7a4-c0ab-4bce-af00-d32c12511bdc",
   "metadata": {},
   "source": [
    "After going through these qualitative arguments, we can now look at what the numerics tell us."
   ]
  },
  {
   "cell_type": "markdown",
   "id": "1bdf074d-3671-4210-89ee-56686e387c9a",
   "metadata": {},
   "source": [
    "## Building the potential V(x)"
   ]
  },
  {
   "cell_type": "markdown",
   "id": "3f432601-bcbd-477c-bf64-7c74ff488d48",
   "metadata": {},
   "source": [
    "First we'll write some functions that build our model potential. Our model includes the following parameters:\n",
    "- $L$: width of the enclosing square well\n",
    "- $a$: width of each narrow square well\n",
    "- $b$: thickness of each internal barrier\n",
    "- $N$: number of narrow square wells\n",
    "- $\\beta$: heigh of each barrier"
   ]
  },
  {
   "cell_type": "code",
   "execution_count": 2,
   "id": "971a2207-997d-4935-8857-6e387e76635c",
   "metadata": {},
   "outputs": [],
   "source": [
    "# This function will return another function that depends only on x.\n",
    "# That's a convenient way to get a function of x that can go into our DVR code.\n",
    "# fullwidth allows us to embed the entire potential in a wider \"framing\" square well\n",
    "def make_potential(N, a, b, beta):\n",
    "    L = N*a+(N-2)*b\n",
    "    if N > 0:\n",
    "        x0s = np.arange(1,N)*(a+b)-(b) - L/2 # locations of barrier centers\n",
    "        def fn(x):\n",
    "            # builds a barrier of height beta and width b centered at each x0 value:\n",
    "            barriers = beta*np.sum([np.heaviside(x-x0s[n]+b/2 , 0.5) - np.heaviside((x-x0s[n]-b/2), 0.5) for n in range(N-1)], axis=0)\n",
    "            return barriers + beta * ((x < -L/2-b/2) | (x>L/2+b/2))\n",
    "    else:\n",
    "        a = L\n",
    "        def fn(x):\n",
    "            return np.zeros(len(x)) + beta * ((x < -L/2) | (x>L/2))\n",
    "    \n",
    "    return fn\n",
    "    "
   ]
  },
  {
   "cell_type": "code",
   "execution_count": 3,
   "id": "09f637d1-6de3-42fc-af4e-dd7f567b66a5",
   "metadata": {},
   "outputs": [
    {
     "data": {
      "text/plain": [
       "Text(0, 0.5, 'V')"
      ]
     },
     "execution_count": 3,
     "metadata": {},
     "output_type": "execute_result"
    },
    {
     "data": {
      "image/png": "[encoded data removed]",
      "text/plain": [
       "<Figure size 432x288 with 1 Axes>"
      ]
     },
     "metadata": {
      "filenames": {
       "image/png": "/Users/ben/Dropbox (Harvard University)/qse200notes/github/QSE-200/_build/jupyter_execute/Section6_v2_10_1.png"
      },
      "needs_background": "light"
     },
     "output_type": "display_data"
    }
   ],
   "source": [
    "f_test = make_potential(9, 1.1e-9, 0.1e-9, 1.5)\n",
    "x = np.linspace(-8,8, 5000)*1e-9\n",
    "plt.plot(x,f_test(x).T)\n",
    "plt.xlabel(\"x\")\n",
    "plt.ylabel(\"V\")"
   ]
  },
  {
   "cell_type": "markdown",
   "id": "997ee79d-c4ad-470e-a339-3701ebe949ba",
   "metadata": {},
   "source": [
    "## Making the DVR code"
   ]
  },
  {
   "cell_type": "markdown",
   "id": "480bd235-3bba-4d06-85c0-7222f0c40884",
   "metadata": {},
   "source": [
    "Next, we set up the DVR code from Section 4 to build the Hamiltonian for our system. This code is the same as we have used previously."
   ]
  },
  {
   "cell_type": "code",
   "execution_count": 4,
   "id": "145e1ae3-0982-4d21-ba8e-b0aca8a44540",
   "metadata": {
    "tags": [
     "hide-input"
    ]
   },
   "outputs": [],
   "source": [
    "hbar = (6.63e-34)/(2*np.pi) # in J.s\n",
    "m = 9.1e-31 # in kg\n",
    "\n",
    "# Function to make the kinetic energy operator\n",
    "def make_T(x):\n",
    "    Delta_x = x[1]-x[0]\n",
    "    N = x.shape[0]\n",
    "    Tmat = np.zeros((N,N))\n",
    "    \n",
    "    # now loop over kinetic energy matrix and fill in matrix elements\n",
    "    for i in range(N):\n",
    "        for j in range(N):\n",
    "            if i==j:\n",
    "                Tmat[i,j] = (hbar**2/(2*m*Delta_x**2)) * (np.pi**2)/3\n",
    "            else:\n",
    "                Tmat[i,j] = (hbar**2/(2*m*Delta_x**2)) * (-1)**(i-j) * 2/(i-j)**2\n",
    "                \n",
    "    return Tmat\n",
    "  \n",
    "# Function to make the potential energy operator\n",
    "def make_V(x,Vfunc):\n",
    "    Vmat = np.diag(Vfunc(x))\n",
    "    return Vmat\n",
    "\n",
    "# Function to make the full Hamiltonian\n",
    "def make_H(x,Vfunc):\n",
    "    return make_T(x) + make_V(x,Vfunc)"
   ]
  },
  {
   "cell_type": "markdown",
   "id": "ba6c449a-f623-4597-a412-a78e3316b4b4",
   "metadata": {},
   "source": [
    "Let's test this on a potential consisting of 12 wells that are fairly deep. After building the potential, we construct the Hamiltonian, evaluate the eigenvectors/eigenvalues, and then plot."
   ]
  },
  {
   "cell_type": "code",
   "execution_count": 5,
   "id": "d3f165fa-061d-4ee4-93de-9999d9df7a9c",
   "metadata": {
    "tags": [
     "hide-input"
    ]
   },
   "outputs": [
    {
     "data": {
      "image/png": "[encoded data removed]",
      "text/plain": [
       "<Figure size 432x288 with 1 Axes>"
      ]
     },
     "metadata": {
      "filenames": {
       "image/png": "/Users/ben/Dropbox (Harvard University)/qse200notes/github/QSE-200/_build/jupyter_execute/Section6_v2_15_0.png"
      },
      "needs_background": "light"
     },
     "output_type": "display_data"
    }
   ],
   "source": [
    "N = 12 # number of wells\n",
    "a = 0.4e-9\n",
    "b = 0.05e-9 # wall thickness in nm\n",
    "beta = 20 / 6.24150907e18 # well height in J\n",
    "V_wells = make_potential(N, a, b, beta)\n",
    "xs = np.linspace(-5, 5, 1600)*1e-9\n",
    "plt.plot(xs*1e9, V_wells(xs))\n",
    "plt.xlabel(\"Position (nm)\")\n",
    "plt.ylabel(\"Energy (eV)\")\n",
    "\n",
    "Ham=make_H(xs,V_wells)\n",
    "\n",
    "vals, vecs = np.linalg.eigh(Ham)\n",
    "# make sure ground state is upward going\n",
    "vecs[:,0] = vecs[:,0] * np.sign(vecs[np.argmax(np.abs(vecs[:,0])),0])\n",
    "# number of bound states:\n",
    "nbound = np.sum([vals<beta])"
   ]
  },
  {
   "cell_type": "markdown",
   "id": "9929039f-328b-4fe9-ac3f-5936245020e8",
   "metadata": {},
   "source": [
    "We can now plot the numerically computed eigenvalues. Let's overlay these values with the energy levels that would occur if there were no barriers inside the potential---the energy levels of the \"wide\" finite square well."
   ]
  },
  {
   "cell_type": "code",
   "execution_count": 6,
   "id": "9c6f4e33-3dc5-4e98-af38-4186e371b9ab",
   "metadata": {
    "tags": [
     "hide-input"
    ]
   },
   "outputs": [],
   "source": [
    "def analytical_Es(w):\n",
    "    return [i**2 * np.pi**2 * hbar**2/(2*m*w**2) for i in range(1,nbound+1)]"
   ]
  },
  {
   "cell_type": "code",
   "execution_count": 7,
   "id": "75e88aa3-7886-40c6-b6ef-89bd55f75e02",
   "metadata": {
    "tags": [
     "hide-input"
    ]
   },
   "outputs": [
    {
     "data": {
      "text/plain": [
       "[<matplotlib.lines.Line2D at 0x7ff6faad5790>]"
      ]
     },
     "execution_count": 7,
     "metadata": {},
     "output_type": "execute_result"
    },
    {
     "data": {
      "image/png": "[encoded data removed]",
      "text/plain": [
       "<Figure size 432x288 with 1 Axes>"
      ]
     },
     "metadata": {
      "filenames": {
       "image/png": "/Users/ben/Dropbox (Harvard University)/qse200notes/github/QSE-200/_build/jupyter_execute/Section6_v2_18_1.png"
      },
      "needs_background": "light"
     },
     "output_type": "display_data"
    }
   ],
   "source": [
    "plt.plot(vals[:nbound],'.')\n",
    "plt.plot(analytical_Es(N*a+(N-2)*b))"
   ]
  },
  {
   "cell_type": "markdown",
   "id": "9d866de3-c1a8-4fb5-b090-f3ff5d8b8232",
   "metadata": {},
   "source": [
    "Notice that the periodic potential leads to a structure highly reminiscient of band structure: the energy levels roughly follow the parabolic shape expected from the wide square well (or, from a different perspective, for the free particle), but the levels are broken up into bands with the characteristic shape that we see in class. And there are band gaps between these bands."
   ]
  },
  {
   "cell_type": "markdown",
   "id": "ebdef0f9-d82a-440c-b9b7-9045e1bae47c",
   "metadata": {},
   "source": [
    "**Question: What will the plot look like if we increase the well separation to the point that the wells are essentially fully uncoupled? Will there be energy degeneracies? How many levels will share the same energy? What happens as the number of wells is increased--which energy gaps \"close\" and which remain?**\n",
    "\n",
    "To answer these questions, perform a \"numerical experiment\" and compare your results to the appropriate square well. How do the numbers compare?\n",
    "\n",
    "**Question: What happens if the well separation is decreased to essentially zero? How do these energies compare to the appropriate finite square well? What about the comparison to free particle energies?**"
   ]
  },
  {
   "cell_type": "markdown",
   "id": "075b8fc3-8e2e-41ec-9763-30139c0e7606",
   "metadata": {},
   "source": [
    "Let's look at the wavefunctions to understand this even better. It will be useful to plot the actual wavefunctions and have some interactivity. The code below makes a plot with a slider that allows you to look at all of the bound eigenstates for a given potential. Once you set the number of wells, their width, and their barriers, you can scan through the eigenstates and look at the behavior."
   ]
  },
  {
   "cell_type": "code",
   "execution_count": 8,
   "id": "deb935d6-44f7-498b-bd8e-00c9f05d46df",
   "metadata": {
    "tags": [
     "hide-input"
    ]
   },
   "outputs": [],
   "source": [
    "def interact_wavefunction():        \n",
    "    ## Plot parameters\n",
    "    xmin, xmax, nx = min(xs)*1e9, max(xs)*1e9, 50\n",
    "    ymin, ymax = -1.2, 1.2\n",
    "    pmin, pmax, pstep, pinit = 0, nbound-1, 1, 0\n",
    "    \n",
    "    ## Set up the plot data\n",
    "    fig, (ax1,ax2)   = plt.subplots(1,2,figsize=(16,6))\n",
    "    line2, = ax1.plot(xs*1e9,2*V_wells(xs)/np.max(V_wells(xs))-1, color=\"grey\")\n",
    "    line, = ax1.plot([], [], linewidth=2, color=\"red\") # Initialize curve to empty data.\n",
    "    \n",
    "    well_levels, = ax2.plot([],[])\n",
    "    well_itself, = ax2.plot([],[], color=\"black\")\n",
    "\n",
    "    ## Set up the figure axes, etc.\n",
    "    ax1.set_xlim([xmin, xmax])\n",
    "    ax1.set_ylim([ymin, ymax])\n",
    "    ax2.set_xlim([xmin,xmax])\n",
    "    ax2.set_ylim([-beta/8*6.24150907e18,1.2*beta*6.24150907e18])\n",
    "    ax1.set_xlabel('Position (nm)', fontsize=18)\n",
    "    ax1.set_ylabel('Re{$\\psi$}', fontsize=18)\n",
    "    ax2.set_xlabel('Position (nm)', fontsize=18)\n",
    "    ax2.set_ylabel('Energy (eV)', fontsize=18)\n",
    "    ax1.tick_params(axis='both', which='major', labelsize=16)\n",
    "    ax2.tick_params(axis='both', which='major', labelsize=16)\n",
    "    plt.close()      # Don't show the figure yet.\n",
    "\n",
    "    ## Callback function\n",
    "    def plot_wavefunction(Eigenstate):\n",
    "        y = vecs[:,int(Eigenstate)]/np.max(np.abs(vecs[:,int(Eigenstate)]))\n",
    "        line.set_data(xs*1e9, y)\n",
    "        line2.set_data(xs*1e9, 2*V_wells(xs)/np.max(V_wells(xs))-1)\n",
    "        well_itself.set_data(xs*1e9, V_wells(xs)*6.24150907e18)\n",
    "        [ax2.axhline(y=vals[i]*6.24150907e18,color=\"grey\") for i in range(nbound)]\n",
    "        ax2.axhline(y=vals[int(Eigenstate)]*6.24150907e18, color=\"cyan\")\n",
    "        ax2.set_title(f\"E={np.round(vals[int(Eigenstate)]*6.24150907e18,3)} eV\", fontsize=16)\n",
    "        display(fig)\n",
    "\n",
    "    ## Generate the user interface.\n",
    "    interact(plot_wavefunction, \n",
    "             Eigenstate=FloatSlider(min=pmin, max=pmax, step=pstep, value=pinit))\n"
   ]
  },
  {
   "cell_type": "markdown",
   "id": "8524bafc-ad4a-4e25-9215-becec6da2893",
   "metadata": {},
   "source": [
    "For example, we can start with 12 wells that are each 0.8 nm wide, 4 eV high, and have a 0.05 nm barrier between them. For this set of parameters, use the interactive plotting to gain some insights about the potential."
   ]
  },
  {
   "cell_type": "code",
   "execution_count": 9,
   "id": "cfd5f372-d440-4ced-baac-c7b39bdfd31d",
   "metadata": {},
   "outputs": [
    {
     "data": {
      "application/vnd.jupyter.widget-view+json": {
       "model_id": "16826f0d76b34ae9b266ef8b4004c200",
       "version_major": 2,
       "version_minor": 0
      },
      "text/plain": [
       "interactive(children=(FloatSlider(value=0.0, description='Eigenstate', max=32.0, step=1.0), Output()), _dom_cl…"
      ]
     },
     "metadata": {},
     "output_type": "display_data"
    }
   ],
   "source": [
    "N = 12 # number of wells\n",
    "a = 0.8e-9\n",
    "b = 0.05e-9 # wall thickness in nm\n",
    "beta = 4 / 6.24150907e18 # well height in J\n",
    "V_wells = make_potential(N, a, b, beta)\n",
    "xs = np.linspace(-8, 8, 900)*1e-9\n",
    "\n",
    "Ham=make_H(xs,V_wells)\n",
    "\n",
    "vals, vecs = np.linalg.eigh(Ham)\n",
    "# make sure ground state is upward going\n",
    "vecs[:,0] = vecs[:,0] * np.sign(vecs[np.argmax(np.abs(vecs[:,0])),0])\n",
    "# number of bound states:\n",
    "nbound = np.sum([vals<beta])\n",
    "\n",
    "\n",
    "interact_wavefunction();"
   ]
  },
  {
   "cell_type": "markdown",
   "id": "9aed6f63-df8a-475b-9188-bd3ac3999206",
   "metadata": {},
   "source": [
    "**Question: Using the interactive graphs above, how does the behavior of each wavefunction within a single band conform to our expectations from Bloch's theorem? How do the wavefunctions differ from band to band? What do you expect to happen as $N \\rightarrow \\infty$?**"
   ]
  },
  {
   "cell_type": "markdown",
   "id": "c180eaeb-2d63-4100-9dfe-f112edd393cb",
   "metadata": {},
   "source": [
    "## Transfer matrix approach"
   ]
  },
  {
   "cell_type": "markdown",
   "id": "cb9a23ee-8e1b-4a17-a961-2eb320eabe82",
   "metadata": {},
   "source": [
    "There's a totally different way to look at band structure: by studying the scattering properties of the potential. This is a complementary method to learn about a potentials bound states. Scattering studies are widely used in many fields of physics/chemistry, from studying the solid state to studying atoms and molecules. Let's see what we can learn about electronic band structure from this point of view using the transfer matrix program that you wrote on HW2. "
   ]
  },
  {
   "cell_type": "markdown",
   "id": "9610bec7-856f-472c-b2b9-e1e6eb52e677",
   "metadata": {},
   "source": [
    "First of all, let's go over the idea of the transfer matrix approach.\n",
    "\n",
    "**Set up approach, talk about different role of propagation vs. transmission matrices.**\n",
    "\n",
    "The code to implement each of these matrices is copied below."
   ]
  },
  {
   "cell_type": "code",
   "execution_count": 10,
   "id": "50af1766-d06e-42b5-a32a-2d208c9a9b77",
   "metadata": {
    "tags": []
   },
   "outputs": [],
   "source": [
    "def DMat(k1, k2):\n",
    "    res = np.zeros((2,2),dtype=np.complex_)\n",
    "    res[0,0] = (1 + k2/k1)/2\n",
    "    res[0,1] = (1 - k2/k1)/2\n",
    "    res[1,0] = res[0,1]\n",
    "    res[1,1] = res[0,0]\n",
    "    return res\n",
    "\n",
    "def PMat(k, L):\n",
    "    res = np.zeros((2,2),dtype=np.complex_)\n",
    "    res[0,0] = np.exp(-1j * k * L)\n",
    "    res[1,1] = np.exp(1j * k * L)\n",
    "    return res"
   ]
  },
  {
   "cell_type": "markdown",
   "id": "1c5a2bde-fd2e-4f10-8f11-c1226682ae0b",
   "metadata": {},
   "source": [
    "**Question: What do the peaks here represent? What is the physics going on when N=2? N=3? Large N?**"
   ]
  },
  {
   "cell_type": "code",
   "execution_count": 11,
   "id": "b9a0d549-b8f7-4076-b78b-bae82a9e284b",
   "metadata": {},
   "outputs": [
    {
     "data": {
      "image/png": "[encoded data removed]",
      "text/plain": [
       "<Figure size 432x288 with 1 Axes>"
      ]
     },
     "metadata": {
      "filenames": {
       "image/png": "/Users/ben/Dropbox (Harvard University)/qse200notes/github/QSE-200/_build/jupyter_execute/Section6_v2_31_0.png"
      },
      "needs_background": "light"
     },
     "output_type": "display_data"
    }
   ],
   "source": [
    "a = 0.8e-9\n",
    "b = 0.1e-9\n",
    "\n",
    "Es = np.arange(0.01, 12.0, 0.001) / 6.24150907e18\n",
    "width_barrier = b\n",
    "width_gap = a\n",
    "Vb=10/ 6.24150907e18\n",
    "\n",
    "Nwells=30\n",
    "\n",
    "\n",
    "Ttrans = np.zeros(Es.size)\n",
    "i = 0\n",
    "for E in Es:\n",
    "    klow = np.emath.sqrt(2 * m * E/hbar**2)\n",
    "    khigh = np.emath.sqrt(2 * m * (E - Vb)/hbar**2)\n",
    "    res_mat = DMat(klow, khigh) @ PMat(khigh, width_barrier) @ DMat(khigh, klow) @ PMat(klow, width_gap)\n",
    "    U, V = np.linalg.eig(res_mat)\n",
    "    diag_res_mat = np.diag([U[0],U[1]])\n",
    "    res_mat = np.linalg.matrix_power(diag_res_mat,Nwells)\n",
    "    res_mat = V @ res_mat @ np.linalg.inv(V)\n",
    "    Ttrans[i] = 1 - np.abs(res_mat[1, 0])**2 / np.abs(res_mat[0,0])**2\n",
    "    i = i + 1\n",
    "\n",
    "plt.plot(Es * 6.24150907e18, Ttrans)\n",
    "plt.xlabel(\"Energy (eV)\",fontsize=16)\n",
    "plt.ylabel(\"Transmission\",fontsize=16)\n",
    "plt.tick_params(axis='both', which='major', labelsize=16)"
   ]
  },
  {
   "cell_type": "markdown",
   "id": "fec5ebdc-fc6d-4758-b3a1-32986e29bd8e",
   "metadata": {},
   "source": [
    "Let's compare the transmission peaks to the bound state energy of our finite square well."
   ]
  },
  {
   "cell_type": "code",
   "execution_count": 12,
   "id": "a8991a8a-50d3-4011-a6dc-1ddf8f820f4e",
   "metadata": {},
   "outputs": [],
   "source": [
    "V_wells = make_potential(Nwells, a, b, Vb)\n",
    "xs = np.linspace(-15, 15, 1500)*1e-9\n",
    "\n",
    "Ham=make_H(xs,V_wells)\n",
    "\n",
    "vals, vecs = np.linalg.eigh(Ham)"
   ]
  },
  {
   "cell_type": "markdown",
   "id": "30accbf9-def3-4662-a1fe-c02321ee4bed",
   "metadata": {},
   "source": [
    "Now let's compare the transmission fraction to the band energies. \n",
    "\n",
    "**Question: How can we easily determine the limits of each energy band? (How does it compare to the number of wells being simulated?**"
   ]
  },
  {
   "cell_type": "code",
   "execution_count": 13,
   "id": "3e66f000-686a-4e5e-85c2-c39e8be9c09e",
   "metadata": {},
   "outputs": [
    {
     "data": {
      "text/plain": [
       "(0.0, 10.0)"
      ]
     },
     "execution_count": 13,
     "metadata": {},
     "output_type": "execute_result"
    },
    {
     "data": {
      "image/png": "[encoded data removed]",
      "text/plain": [
       "<Figure size 432x288 with 1 Axes>"
      ]
     },
     "metadata": {
      "filenames": {
       "image/png": "/Users/ben/Dropbox (Harvard University)/qse200notes/github/QSE-200/_build/jupyter_execute/Section6_v2_35_1.png"
      },
      "needs_background": "light"
     },
     "output_type": "display_data"
    }
   ],
   "source": [
    "band_limits = [0]\n",
    "for n in range(5):\n",
    "    band_limits.append(n*Nwells-1)\n",
    "    band_limits.append(n*Nwells)\n",
    "\n",
    "plt.plot(Es * 6.24150907e18, Ttrans, color=\"limegreen\")\n",
    "[plt.axvline(vals[i]*6.24150907e18, color=\"black\") for i in band_limits]\n",
    "plt.xlabel(\"Energy (eV)\",fontsize=16)\n",
    "plt.ylabel(\"Transmission\",fontsize=16)\n",
    "plt.tick_params(axis='both', which='major', labelsize=16)\n",
    "plt.xlim(0,10)"
   ]
  },
  {
   "cell_type": "code",
   "execution_count": null,
   "id": "0d6e1d41-935d-45c1-b304-117c2d3076e2",
   "metadata": {},
   "outputs": [],
   "source": []
  }
 ],
 "metadata": {
  "kernelspec": {
   "display_name": "Python 3 (ipykernel)",
   "language": "python",
   "name": "python3"
  },
  "language_info": {
   "codemirror_mode": {
    "name": "ipython",
    "version": 3
   },
   "file_extension": ".py",
   "mimetype": "text/x-python",
   "name": "python",
   "nbconvert_exporter": "python",
   "pygments_lexer": "ipython3",
   "version": "3.9.7"
  },
  "widgets": {
   "application/vnd.jupyter.widget-state+json": {
    "state": {
     "16826f0d76b34ae9b266ef8b4004c200": {
      "model_module": "@jupyter-widgets/controls",
      "model_module_version": "1.5.0",
      "model_name": "VBoxModel",
      "state": {
       "_dom_classes": [
        "widget-interact"
       ],
       "_model_module": "@jupyter-widgets/controls",
       "_model_module_version": "1.5.0",
       "_model_name": "VBoxModel",
       "_view_count": null,
       "_view_module": "@jupyter-widgets/controls",
       "_view_module_version": "1.5.0",
       "_view_name": "VBoxView",
       "box_style": "",
       "children": [
        "IPY_MODEL_d835980d341e484abec91048d9682e8a",
        "IPY_MODEL_e9acbc067de848a2af247c697bb0c9aa"
       ],
       "layout": "IPY_MODEL_4b6b6a4a317a469b930776519ec6663a"
      }
     },
     "4b6b6a4a317a469b930776519ec6663a": {
      "model_module": "@jupyter-widgets/base",
      "model_module_version": "1.2.0",
      "model_name": "LayoutModel",
      "state": {
       "_model_module": "@jupyter-widgets/base",
       "_model_module_version": "1.2.0",
       "_model_name": "LayoutModel",
       "_view_count": null,
       "_view_module": "@jupyter-widgets/base",
       "_view_module_version": "1.2.0",
       "_view_name": "LayoutView",
       "align_content": null,
       "align_items": null,
       "align_self": null,
       "border": null,
       "bottom": null,
       "display": null,
       "flex": null,
       "flex_flow": null,
       "grid_area": null,
       "grid_auto_columns": null,
       "grid_auto_flow": null,
       "grid_auto_rows": null,
       "grid_column": null,
       "grid_gap": null,
       "grid_row": null,
       "grid_template_areas": null,
       "grid_template_columns": null,
       "grid_template_rows": null,
       "height": null,
       "justify_content": null,
       "justify_items": null,
       "left": null,
       "margin": null,
       "max_height": null,
       "max_width": null,
       "min_height": null,
       "min_width": null,
       "object_fit": null,
       "object_position": null,
       "order": null,
       "overflow": null,
       "overflow_x": null,
       "overflow_y": null,
       "padding": null,
       "right": null,
       "top": null,
       "visibility": null,
       "width": null
      }
     },
     "925032f90efc49c5a0af01f8d1f80975": {
      "model_module": "@jupyter-widgets/base",
      "model_module_version": "1.2.0",
      "model_name": "LayoutModel",
      "state": {
       "_model_module": "@jupyter-widgets/base",
       "_model_module_version": "1.2.0",
       "_model_name": "LayoutModel",
       "_view_count": null,
       "_view_module": "@jupyter-widgets/base",
       "_view_module_version": "1.2.0",
       "_view_name": "LayoutView",
       "align_content": null,
       "align_items": null,
       "align_self": null,
       "border": null,
       "bottom": null,
       "display": null,
       "flex": null,
       "flex_flow": null,
       "grid_area": null,
       "grid_auto_columns": null,
       "grid_auto_flow": null,
       "grid_auto_rows": null,
       "grid_column": null,
       "grid_gap": null,
       "grid_row": null,
       "grid_template_areas": null,
       "grid_template_columns": null,
       "grid_template_rows": null,
       "height": null,
       "justify_content": null,
       "justify_items": null,
       "left": null,
       "margin": null,
       "max_height": null,
       "max_width": null,
       "min_height": null,
       "min_width": null,
       "object_fit": null,
       "object_position": null,
       "order": null,
       "overflow": null,
       "overflow_x": null,
       "overflow_y": null,
       "padding": null,
       "right": null,
       "top": null,
       "visibility": null,
       "width": null
      }
     },
     "d835980d341e484abec91048d9682e8a": {
      "model_module": "@jupyter-widgets/controls",
      "model_module_version": "1.5.0",
      "model_name": "FloatSliderModel",
      "state": {
       "_dom_classes": [],
       "_model_module": "@jupyter-widgets/controls",
       "_model_module_version": "1.5.0",
       "_model_name": "FloatSliderModel",
       "_view_count": null,
       "_view_module": "@jupyter-widgets/controls",
       "_view_module_version": "1.5.0",
       "_view_name": "FloatSliderView",
       "continuous_update": true,
       "description": "Eigenstate",
       "description_tooltip": null,
       "disabled": false,
       "layout": "IPY_MODEL_f4f5352ef5284ceeadfd95248df600ff",
       "max": 32.0,
       "min": 0.0,
       "orientation": "horizontal",
       "readout": true,
       "readout_format": ".2f",
       "step": 1.0,
       "style": "IPY_MODEL_e43ce70034624c5792b07819145b3a6e",
       "value": 0.0
      }
     },
     "e43ce70034624c5792b07819145b3a6e": {
      "model_module": "@jupyter-widgets/controls",
      "model_module_version": "1.5.0",
      "model_name": "SliderStyleModel",
      "state": {
       "_model_module": "@jupyter-widgets/controls",
       "_model_module_version": "1.5.0",
       "_model_name": "SliderStyleModel",
       "_view_count": null,
       "_view_module": "@jupyter-widgets/base",
       "_view_module_version": "1.2.0",
       "_view_name": "StyleView",
       "description_width": "",
       "handle_color": null
      }
     },
     "e9acbc067de848a2af247c697bb0c9aa": {
      "model_module": "@jupyter-widgets/output",
      "model_module_version": "1.0.0",
      "model_name": "OutputModel",
      "state": {
       "_dom_classes": [],
       "_model_module": "@jupyter-widgets/output",
       "_model_module_version": "1.0.0",
       "_model_name": "OutputModel",
       "_view_count": null,
       "_view_module": "@jupyter-widgets/output",
       "_view_module_version": "1.0.0",
       "_view_name": "OutputView",
       "layout": "IPY_MODEL_925032f90efc49c5a0af01f8d1f80975",
       "msg_id": "",
       "outputs": [
        {
         "data": {
          "image/png": "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\n",
          "text/plain": "<Figure size 1152x432 with 2 Axes>"
         },
         "metadata": {},
         "output_type": "display_data"
        }
       ]
      }
     },
     "f4f5352ef5284ceeadfd95248df600ff": {
      "model_module": "@jupyter-widgets/base",
      "model_module_version": "1.2.0",
      "model_name": "LayoutModel",
      "state": {
       "_model_module": "@jupyter-widgets/base",
       "_model_module_version": "1.2.0",
       "_model_name": "LayoutModel",
       "_view_count": null,
       "_view_module": "@jupyter-widgets/base",
       "_view_module_version": "1.2.0",
       "_view_name": "LayoutView",
       "align_content": null,
       "align_items": null,
       "align_self": null,
       "border": null,
       "bottom": null,
       "display": null,
       "flex": null,
       "flex_flow": null,
       "grid_area": null,
       "grid_auto_columns": null,
       "grid_auto_flow": null,
       "grid_auto_rows": null,
       "grid_column": null,
       "grid_gap": null,
       "grid_row": null,
       "grid_template_areas": null,
       "grid_template_columns": null,
       "grid_template_rows": null,
       "height": null,
       "justify_content": null,
       "justify_items": null,
       "left": null,
       "margin": null,
       "max_height": null,
       "max_width": null,
       "min_height": null,
       "min_width": null,
       "object_fit": null,
       "object_position": null,
       "order": null,
       "overflow": null,
       "overflow_x": null,
       "overflow_y": null,
       "padding": null,
       "right": null,
       "top": null,
       "visibility": null,
       "width": null
      }
     }
    },
    "version_major": 2,
    "version_minor": 0
   }
  }
 },
 "nbformat": 4,
 "nbformat_minor": 5
}